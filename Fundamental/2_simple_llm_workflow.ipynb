{
 "cells": [
  {
   "cell_type": "code",
   "execution_count": 1,
   "id": "2d260f78",
   "metadata": {},
   "outputs": [],
   "source": [
    "from langgraph.graph import StateGraph,END,START\n",
    "from langchain_openai import ChatOpenAI\n",
    "from typing import TypedDict\n",
    "from dotenv import load_dotenv\n"
   ]
  },
  {
   "cell_type": "code",
   "execution_count": 6,
   "id": "3d05ea83",
   "metadata": {},
   "outputs": [
    {
     "data": {
      "text/plain": [
       "False"
      ]
     },
     "execution_count": 6,
     "metadata": {},
     "output_type": "execute_result"
    }
   ],
   "source": [
    "load_dotenv()"
   ]
  },
  {
   "cell_type": "code",
   "execution_count": 5,
   "id": "574d0a33",
   "metadata": {},
   "outputs": [
    {
     "name": "stdout",
     "output_type": "stream",
     "text": [
      "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\n",
      "https://openrouter.ai/api/v1\n"
     ]
    }
   ],
   "source": [
    "print(os.getenv(\"OPENAI_API_KEY\"))\n",
    "print(os.getenv(\"OPENAI_BASE_URL\"))"
   ]
  },
  {
   "cell_type": "code",
   "execution_count": 9,
   "id": "c9f8ef7f",
   "metadata": {},
   "outputs": [],
   "source": [
    "model =  ChatOpenAI(\n",
    "    model=\"gpt-4o-mini\",   # you can also use e.g. \"aAnthropic/claude-3.5-sonnet\"\n",
    "    temperature=0.7\n",
    ")"
   ]
  },
  {
   "cell_type": "code",
   "execution_count": 10,
   "id": "ae94a0bd",
   "metadata": {},
   "outputs": [],
   "source": [
    "class LLMState(TypedDict):\n",
    "    question:str\n",
    "    answer:str"
   ]
  },
  {
   "cell_type": "code",
   "execution_count": 13,
   "id": "97fd6d86",
   "metadata": {},
   "outputs": [],
   "source": [
    "def llm_question(state:LLMState) ->LLMState:\n",
    "\n",
    "    #extreact the question from state\n",
    "    question=state[\"question\"]\n",
    "\n",
    "    #define a prompt\n",
    "    prompt=f'Answer the following question {question}'\n",
    "\n",
    "    # ask that question to LLM\n",
    "    result=model.invoke(prompt).content \n",
    "\n",
    "    #update state\n",
    "    state[\"answer\"]=result\n",
    "\n",
    "    return state"
   ]
  },
  {
   "cell_type": "code",
   "execution_count": 16,
   "id": "c722e309",
   "metadata": {},
   "outputs": [
    {
     "data": {
      "image/png": "[encoded data removed]",
      "text/plain": [
       "<langgraph.graph.state.CompiledStateGraph object at 0x0000020E59CB2720>"
      ]
     },
     "execution_count": 16,
     "metadata": {},
     "output_type": "execute_result"
    }
   ],
   "source": [
    "#create a graph\n",
    "\n",
    "graph = StateGraph(LLMState)\n",
    "\n",
    "#add nodes\n",
    "\n",
    "graph.add_node(\"llm_question\",llm_question)\n",
    "\n",
    "\n",
    "#add edges\n",
    "\n",
    "graph.add_edge(START,'llm_question')\n",
    "graph.add_edge(\"llm_question\",END)\n",
    "\n",
    "#compile\n",
    "graph.compile()"
   ]
  },
  {
   "cell_type": "code",
   "execution_count": 18,
   "id": "f24fbc40",
   "metadata": {},
   "outputs": [
    {
     "name": "stdout",
     "output_type": "stream",
     "text": [
      "The average distance from the Earth to the Moon is about 238,855 miles (384,400 kilometers). This distance can vary slightly due to the Moon's elliptical orbit around the Earth.\n"
     ]
    }
   ],
   "source": [
    "#compile\n",
    "workflow=graph.compile()\n",
    "\n",
    "# execute\n",
    "\n",
    "inital_state={\"question\":\"How far is moon from the earth?\"}\n",
    "\n",
    "final_state=workflow.invoke(inital_state)\n",
    "\n",
    "print(final_state[\"answer\"])"
   ]
  },
  {
   "cell_type": "code",
   "execution_count": null,
   "id": "339ddc02",
   "metadata": {},
   "outputs": [],
   "source": []
  }
 ],
 "metadata": {
  "kernelspec": {
   "display_name": "myenv",
   "language": "python",
   "name": "python3"
  },
  "language_info": {
   "codemirror_mode": {
    "name": "ipython",
    "version": 3
   },
   "file_extension": ".py",
   "mimetype": "text/x-python",
   "name": "python",
   "nbconvert_exporter": "python",
   "pygments_lexer": "ipython3",
   "version": "3.12.7"
  }
 },
 "nbformat": 4,
 "nbformat_minor": 5
}
