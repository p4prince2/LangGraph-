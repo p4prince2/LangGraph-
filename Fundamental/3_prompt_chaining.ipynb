{
 "cells": [
  {
   "cell_type": "code",
   "execution_count": 1,
   "id": "077fe773",
   "metadata": {},
   "outputs": [],
   "source": [
    "from langchain_openai import ChatOpenAI\n",
    "from langgraph.graph import StateGraph , END,START\n",
    "from typing import TypedDict\n",
    "from dotenv import load_dotenv"
   ]
  },
  {
   "cell_type": "code",
   "execution_count": null,
   "id": "bcd8f4c9",
   "metadata": {},
   "outputs": [],
   "source": [
    "load_dotenv()"
   ]
  },
  {
   "cell_type": "code",
   "execution_count": 2,
   "id": "3ab9bdec",
   "metadata": {},
   "outputs": [],
   "source": [
    "model =  ChatOpenAI(\n",
    "    model=\"gpt-4o-mini\",   # you can also use e.g. \"aAnthropic/claude-3.5-sonnet\"\n",
    "    temperature=0.7\n",
    ") "
   ]
  },
  {
   "cell_type": "code",
   "execution_count": 4,
   "id": "6c2c887d",
   "metadata": {},
   "outputs": [],
   "source": [
    "class chain_state(TypedDict):\n",
    "\n",
    "    topic:str\n",
    "    gen_outline:str\n",
    "    gen_blog:str"
   ]
  },
  {
   "cell_type": "code",
   "execution_count": 6,
   "id": "ed8ff131",
   "metadata": {},
   "outputs": [],
   "source": [
    "def gen_outline(state : chain_state) -> chain_state:\n",
    "\n",
    "    topic =state[\"topic\"]\n",
    "\n",
    "    prompt=f'write a outline on the {topic}'\n",
    "\n",
    "    outline_result=model.invoke(prompt).content\n",
    "\n",
    "    state[\"gen_outline\"]=outline_result\n",
    "\n",
    "    return state"
   ]
  },
  {
   "cell_type": "code",
   "execution_count": 7,
   "id": "8f28fe4e",
   "metadata": {},
   "outputs": [],
   "source": [
    "def gen_blog(state : chain_state) -> chain_state:\n",
    "\n",
    "    outline=state[\"gen_outline\"]\n",
    "\n",
    "    prompt=f\"write a blog on the given {outline}\"\n",
    "\n",
    "    blog_result=model.invoke(prompt).content\n",
    "\n",
    "    state[\"gen_blog\"]=blog_result\n",
    "\n",
    "    return state \n"
   ]
  },
  {
   "cell_type": "code",
   "execution_count": 8,
   "id": "022c9bb6",
   "metadata": {},
   "outputs": [
    {
     "data": {
      "image/png": "[encoded data removed]",
      "text/plain": [
       "<langgraph.graph.state.CompiledStateGraph object at 0x0000027FBD2008F0>"
      ]
     },
     "execution_count": 8,
     "metadata": {},
     "output_type": "execute_result"
    }
   ],
   "source": [
    "graph=StateGraph(chain_state)\n",
    "\n",
    "graph.add_node(\"gen_outline\",gen_outline)\n",
    "graph.add_node(\"gen_blog\",gen_blog)\n",
    "\n",
    "graph.add_edge(START,\"gen_outline\")\n",
    "graph.add_edge(\"gen_outline\",\"gen_blog\")\n",
    "graph.add_edge(\"gen_blog\",END)\n",
    "\n",
    "\n",
    "graph.compile()"
   ]
  },
  {
   "cell_type": "code",
   "execution_count": 12,
   "id": "66ceabcd",
   "metadata": {},
   "outputs": [
    {
     "name": "stdout",
     "output_type": "stream",
     "text": [
      "{'topic': 'starwar', 'gen_outline': 'Sure! Here’s an outline for a comprehensive overview of the Star Wars franchise, covering its key elements, themes, and impact.\\n\\n### Outline for Star Wars\\n\\n#### I. Introduction\\n   A. Overview of Star Wars\\n      1. Creation and development by George Lucas\\n      2. Initial release of \"Star Wars: Episode IV - A New Hope\" in 1977\\n      3. Cultural significance and legacy\\n\\n#### II. The Star Wars Universe\\n   A. Setting and Geography\\n      1. Galaxy far, far away\\n      2. Key planets (e.g., Tatooine, Coruscant, Hoth, Endor)\\n   B. Species and Characters\\n      1. Diverse alien species (e.g., Wookiees, Twi\\'leks, Rodians)\\n      2. Iconic characters (e.g., Luke Skywalker, Darth Vader, Princess Leia)\\n\\n#### III. The Jedi and the Sith\\n   A. The Force\\n      1. Explanation of the Force\\n      2. Light Side vs. Dark Side\\n   B. Jedi Order\\n      1. Principles and training of Jedi\\n      2. Prominent Jedi (e.g., Obi-Wan Kenobi, Yoda, Rey)\\n   C. Sith Order\\n      1. Philosophy and goals of the Sith\\n      2. Key Sith Lords (e.g., Palpatine, Darth Maul, Kylo Ren)\\n\\n#### IV. Major Story Arcs\\n   A. The Original Trilogy\\n      1. Episode IV: A New Hope\\n      2. Episode V: The Empire Strikes Back\\n      3. Episode VI: Return of the Jedi\\n   B. The Prequel Trilogy\\n      1. Episode I: The Phantom Menace\\n      2. Episode II: Attack of the Clones\\n      3. Episode III: Revenge of the Sith\\n   C. The Sequel Trilogy\\n      1. Episode VII: The Force Awakens\\n      2. Episode VIII: The Last Jedi\\n      3. Episode IX: The Rise of Skywalker\\n\\n#### V. Spin-offs and Expanded Universe\\n   A. Animated Series\\n      1. \"Star Wars: The Clone Wars\"\\n      2. \"Star Wars Rebels\"\\n      3. \"Star Wars: The Bad Batch\"\\n   B. Live-action Series\\n      1. \"The Mandalorian\"\\n      2. \"Obi-Wan Kenobi\"\\n      3. \"Ahsoka\"\\n   C. Novels, Comics, and Video Games\\n      1. Canon vs. Legends\\n      2. Notable titles and their impact on the lore\\n\\n#### VI. Themes and Motifs\\n   A. Good vs. Evil\\n   B. Redemption and Forgiveness\\n   C. The Hero’s Journey\\n   D. Friendship and Loyalty\\n   E. Politics and Power\\n\\n#### VII. Cultural Impact\\n   A. Influence on Film and Media\\n      1. Innovations in special effects\\n      2. Impact on blockbuster filmmaking\\n   B. Fandom and Community\\n      1. Conventions and fan culture\\n      2. Merchandise and collectibles\\n   C. Social and Political Commentary\\n      1. Reflections on war, politics, and society\\n      2. Representation and diversity in storytelling\\n\\n#### VIII. Conclusion\\n   A. Summary of Star Wars’ significance\\n   B. The future of the franchise\\n      1. Upcoming films and series\\n      2. Continued relevance in popular culture\\n\\nThis outline provides a structured overview of the Star Wars franchise, touching on its major components, themes, and cultural significance. Each section can be expanded further with detailed information and analysis.', 'gen_blog': '# Exploring the Galaxy: A Comprehensive Overview of the Star Wars Franchise\\n\\n## I. Introduction\\n\\nThe Star Wars franchise is not just a series of films; it is a cultural phenomenon that has captured the imaginations of millions around the globe. Created by George Lucas, the franchise began with the release of \"Star Wars: Episode IV - A New Hope\" in 1977, which introduced audiences to a galaxy filled with adventure, conflict, and timeless themes. Over the decades, Star Wars has evolved into a sprawling universe encompassing movies, television shows, novels, comics, and an ever-growing community of fans. Its cultural significance is undeniable, shaping the landscape of modern storytelling and media.\\n\\n## II. The Star Wars Universe\\n\\n### A. Setting and Geography\\n\\nThe Star Wars saga is set in a galaxy \"far, far away\", a richly crafted universe filled with diverse planets and environments. Key locations, such as the desert world of Tatooine, the bustling metropolis of Coruscant, the icy wasteland of Hoth, and the lush forest moon of Endor, contribute to the franchise\\'s distinct atmosphere and lore.\\n\\n### B. Species and Characters\\n\\nThe galaxy is home to an array of alien species, each with unique cultures and characteristics. From the towering Wookiees to the agile Twi\\'leks, Star Wars introduces audiences to a vibrant tapestry of life. Iconic characters like Luke Skywalker, Darth Vader, and Princess Leia have become symbols of heroism and villainy, embodying the struggles faced by individuals in a vast and complex universe.\\n\\n## III. The Jedi and the Sith\\n\\n### A. The Force\\n\\nAt the heart of Star Wars lies the Force, an energy field connecting all living things. It is a source of power for both the Jedi and the Sith, representing the struggle between good and evil. Jedi harness the Light Side of the Force, emphasizing peace and harmony, while the Sith embrace the Dark Side, seeking power and domination.\\n\\n### B. Jedi Order\\n\\nThe Jedi Order, with its strict principles and rigorous training, is dedicated to maintaining peace and justice in the galaxy. Prominent Jedi such as Obi-Wan Kenobi, Yoda, and Rey exemplify the ideals of the Order, showcasing the importance of mentorship, sacrifice, and moral integrity.\\n\\n### C. Sith Order\\n\\nIn contrast, the Sith Order thrives on ambition and the pursuit of power. With a philosophy rooted in manipulation and dominance, key Sith Lords like Palpatine, Darth Maul, and Kylo Ren illustrate the seductive nature of the Dark Side and the consequences of unchecked ambition.\\n\\n## IV. Major Story Arcs\\n\\n### A. The Original Trilogy\\n\\nThe Original Trilogy is where it all began. \"A New Hope\" introduces audiences to the Rebel Alliance\\'s fight against the oppressive Galactic Empire. \"The Empire Strikes Back\" deepens the narrative with shocking revelations and character development, while \"Return of the Jedi\" concludes the saga with redemption and triumph.\\n\\n### B. The Prequel Trilogy\\n\\nThe Prequel Trilogy explores the rise of the Empire and the fall of Anakin Skywalker. \"The Phantom Menace\" delves into the origins of the conflict, \"Attack of the Clones\" highlights the complexities of love and war, and \"Revenge of the Sith\" depicts Anakin\\'s tragic transformation into Darth Vader.\\n\\n### C. The Sequel Trilogy\\n\\nThe Sequel Trilogy introduces a new generation of characters while paying homage to the original saga. \"The Force Awakens\" reignites the spirit of Star Wars, \"The Last Jedi\" challenges traditional narratives and character arcs, and \"The Rise of Skywalker\" aims to conclude the overarching story.\\n\\n## V. Spin-offs and Expanded Universe\\n\\n### A. Animated Series\\n\\nThe animated series, such as \"Star Wars: The Clone Wars,\" \"Star Wars Rebels,\" and \"Star Wars: The Bad Batch,\" expand the lore, providing deeper insights into the characters and events that shape the galaxy.\\n\\n### B. Live-action Series\\n\\nRecent live-action series like \"The Mandalorian,\" \"Obi-Wan Kenobi,\" and \"Ahsoka\" showcase a new era of storytelling within the Star Wars universe, bringing beloved characters to life and introducing new narratives.\\n\\n### C. Novels, Comics, and Video Games\\n\\nThe Star Wars Expanded Universe consists of a vast array of novels, comics, and video games. The distinction between canon and Legends has allowed for fresh storytelling while respecting the franchise\\'s rich history.\\n\\n## VI. Themes and Motifs\\n\\nStar Wars explores timeless themes such as the struggle between good and evil, the quest for redemption, the hero\\'s journey, and the importance of friendship and loyalty. Additionally, the franchise often reflects on political power and the consequences of war, offering rich commentary on real-world issues.\\n\\n## VII. Cultural Impact\\n\\n### A. Influence on Film and Media\\n\\nStar Wars revolutionized the film industry, pioneering innovations in special effects and establishing the modern blockbuster formula. Its influence can be seen in countless films and media, inspiring generations of filmmakers.\\n\\n### B. Fandom and Community\\n\\nThe vibrant Star Wars fandom is a testament to the franchise\\'s enduring appeal. From conventions to fan clubs, the community fosters creativity and collaboration, celebrating the lore and characters of the galaxy.\\n\\n### C. Social and Political Commentary\\n\\nStar Wars serves as a reflection of societal issues, addressing themes of war, politics, and representation. The franchise has evolved to embrace diversity in storytelling, showcasing a wider range of characters and perspectives.\\n\\n## VIII. Conclusion\\n\\nIn summary, the Star Wars franchise is a monumental cultural touchstone that continues to resonate with audiences worldwide. As the galaxy expands with upcoming films and series, the legacy of Star Wars remains vibrant, ensuring its relevance in popular culture for years to come. Whether you are a lifelong fan or a newcomer to the saga, there is always something new to discover in this extraordinary universe. May the Force be with you!'}\n"
     ]
    }
   ],
   "source": [
    "workflow=graph.compile()\n",
    "\n",
    "result=workflow.invoke({\"topic\":\"starwar\"})\n",
    "\n",
    "print(result)"
   ]
  },
  {
   "cell_type": "code",
   "execution_count": null,
   "id": "a6f0da71",
   "metadata": {},
   "outputs": [],
   "source": []
  }
 ],
 "metadata": {
  "kernelspec": {
   "display_name": "myenv",
   "language": "python",
   "name": "python3"
  },
  "language_info": {
   "codemirror_mode": {
    "name": "ipython",
    "version": 3
   },
   "file_extension": ".py",
   "mimetype": "text/x-python",
   "name": "python",
   "nbconvert_exporter": "python",
   "pygments_lexer": "ipython3",
   "version": "3.12.7"
  }
 },
 "nbformat": 4,
 "nbformat_minor": 5
}
