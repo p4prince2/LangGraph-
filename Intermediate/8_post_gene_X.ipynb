{
 "cells": [
  {
   "cell_type": "code",
   "execution_count": 49,
   "id": "f9d9380c",
   "metadata": {},
   "outputs": [],
   "source": [
    "from langgraph.graph import StateGraph,START,END\n",
    "from langchain_openai import  ChatOpenAI\n",
    "from dotenv import load_dotenv\n",
    "from typing import TypedDict,Literal,Annotated\n",
    "from langchain_core.messages import SystemMessage,HumanMessage\n",
    "from pydantic import BaseModel,Field\n",
    "import operator"
   ]
  },
  {
   "cell_type": "code",
   "execution_count": 50,
   "id": "f26d92cb",
   "metadata": {},
   "outputs": [
    {
     "data": {
      "text/plain": [
       "True"
      ]
     },
     "execution_count": 50,
     "metadata": {},
     "output_type": "execute_result"
    }
   ],
   "source": [
    "load_dotenv()"
   ]
  },
  {
   "cell_type": "code",
   "execution_count": 51,
   "id": "24dc15a5",
   "metadata": {},
   "outputs": [],
   "source": [
    "generator_llm = ChatOpenAI(model='gpt-4o-mini',\n",
    "                  \n",
    "    base_url=\"https://openrouter.ai/api/v1\"\n",
    "                   \n",
    "                   )\n",
    "evaluation_llm = ChatOpenAI(model='gpt-4o-mini',\n",
    "              \n",
    "    base_url=\"https://openrouter.ai/api/v1\"\n",
    "                   \n",
    "                   )\n",
    "optimizer_llm = ChatOpenAI(model='gpt-4o-mini',\n",
    "                  \n",
    "    base_url=\"https://openrouter.ai/api/v1\"\n",
    "                   \n",
    "                   )"
   ]
  },
  {
   "cell_type": "code",
   "execution_count": 52,
   "id": "45c5de44",
   "metadata": {},
   "outputs": [],
   "source": [
    "class str_output(BaseModel):\n",
    "    evaluation: Literal[\"approved\", \"needs_improvement\"] = Field(..., description=\"Final evaluation result.\")\n",
    "    feedback: str = Field(..., description=\"feedback for the tweet.\")"
   ]
  },
  {
   "cell_type": "code",
   "execution_count": 53,
   "id": "9f122934",
   "metadata": {},
   "outputs": [],
   "source": [
    "structured_evaluator_llm = evaluation_llm.with_structured_output(str_output)"
   ]
  },
  {
   "cell_type": "code",
   "execution_count": 54,
   "id": "85864e99",
   "metadata": {},
   "outputs": [],
   "source": [
    "class tweetState(TypedDict):\n",
    "\n",
    "    topic:str\n",
    "    tweet:str\n",
    "    evaluation:Literal[\"approved\",\"needs_imporvement\"]\n",
    "    feedback:str\n",
    "    iteration:int\n",
    "    max_iteration:int\n",
    "\n",
    "    tweet_history: Annotated[list[str], operator.add]\n",
    "    feedback_history: Annotated[list[str], operator.add]\n"
   ]
  },
  {
   "cell_type": "code",
   "execution_count": 55,
   "id": "9e770811",
   "metadata": {},
   "outputs": [],
   "source": [
    "def generate_tweet(state : tweetState):\n",
    "\n",
    "     messages = [\n",
    "        SystemMessage(content=\"You are a funny and clever Twitter/X influencer.\"),\n",
    "        HumanMessage(content=f\"\"\"\n",
    "Write a short, original, and hilarious tweet on the topic: \"{state['topic']}\".\n",
    "\n",
    "Rules:\n",
    "- Do NOT use question-answer format.\n",
    "- Max 280 characters.\n",
    "- Use observational humor, irony, sarcasm, or cultural references.\n",
    "- Think in meme logic, punchlines, or relatable takes.\n",
    "- Use simple, day to day english\n",
    "\"\"\")\n",
    "    ]\n",
    "\n",
    "    # send generator_llm\n",
    "     response = generator_llm.invoke(messages).content\n",
    "\n",
    "    # return response\n",
    "     return {'tweet': response, 'tweet_history': [response]}"
   ]
  },
  {
   "cell_type": "code",
   "execution_count": 56,
   "id": "ed89d8b5",
   "metadata": {},
   "outputs": [],
   "source": [
    "def evaluate_tweet(state: tweetState):\n",
    "\n",
    "  \n",
    "\n",
    "    # prompt\n",
    "    messages = [\n",
    "    SystemMessage(content=\"You are a ruthless, no-laugh-given Twitter critic. You evaluate tweets based on humor, originality, virality, and tweet format.\"),\n",
    "    HumanMessage(content=f\"\"\"\n",
    "Evaluate the following tweet:\n",
    "\n",
    "Tweet: \"{state['tweet']}\"\n",
    "\n",
    "Use the criteria below to evaluate the tweet:\n",
    "\n",
    "1. Originality - Is this fresh, or have you seen it a hundred times before?  \n",
    "2. Humor - Did it genuinely make you smile, laugh, or chuckle?  \n",
    "3. Punchiness - Is it short, sharp, and scroll-stopping?  \n",
    "4. Virality Potential - Would people retweet or share it?  \n",
    "5. Format - Is it a well-formed tweet (not a setup-punchline joke, not a Q&A joke, and under 280 characters)?\n",
    "\n",
    "Auto-reject if:\n",
    "- It's written in question-answer format (e.g., \"Why did...\" or \"What happens when...\")\n",
    "- It exceeds 280 characters\n",
    "- It reads like a traditional setup-punchline joke\n",
    "- Dont end with generic, throwaway, or deflating lines that weaken the humor (e.g., “Masterpieces of the auntie-uncle universe” or vague summaries)\n",
    "\n",
    "### Respond ONLY in structured format:\n",
    "- evaluation: \"approved\" or \"needs_improvement\"  \n",
    "- feedback: One paragraph explaining the strengths and weaknesses \n",
    "\"\"\")\n",
    "]\n",
    "\n",
    "    response = structured_evaluator_llm.invoke(messages)\n",
    "\n",
    "    return {'evaluation':response.evaluation, 'feedback': response.feedback, 'feedback_history': [response.feedback]}"
   ]
  },
  {
   "cell_type": "code",
   "execution_count": 57,
   "id": "24810f37",
   "metadata": {},
   "outputs": [],
   "source": [
    "def optimize_tweet(state: tweetState):\n",
    "\n",
    "    messages = [\n",
    "        SystemMessage(content=\"You punch up tweets for virality and humor based on given feedback.\"),\n",
    "        HumanMessage(content=f\"\"\"\n",
    "Improve the tweet based on this feedback:\n",
    "\"{state['feedback']}\"\n",
    "\n",
    "Topic: \"{state['topic']}\"\n",
    "Original Tweet:\n",
    "{state['tweet']}\n",
    "\n",
    "Re-write it as a short, viral-worthy tweet. Avoid Q&A style and stay under 280 characters.\n",
    "\"\"\")\n",
    "    ]\n",
    "\n",
    "    response = optimizer_llm.invoke(messages).content\n",
    "    iteration = state['iteration'] + 1\n",
    "\n",
    "    return {'tweet': response, 'iteration': iteration, 'tweet_history': [response]}"
   ]
  },
  {
   "cell_type": "code",
   "execution_count": 58,
   "id": "2a1d4b16",
   "metadata": {},
   "outputs": [],
   "source": [
    "def route_evaluation(state: tweetState):\n",
    "\n",
    "    if state['evaluation'] == 'approved' or state['iteration'] >= state['max_iteration']:\n",
    "        return 'approved'\n",
    "    else:\n",
    "        return 'needs_improvement'"
   ]
  },
  {
   "cell_type": "code",
   "execution_count": 59,
   "id": "bf3d4a5e",
   "metadata": {},
   "outputs": [
    {
     "data": {
      "image/png": "[encoded data removed]",
      "text/plain": [
       "<langgraph.graph.state.CompiledStateGraph object at 0x0000021E2E1FD670>"
      ]
     },
     "execution_count": 59,
     "metadata": {},
     "output_type": "execute_result"
    }
   ],
   "source": [
    "graph=StateGraph(tweetState)\n",
    "\n",
    "graph.add_node(\"generate\",generate_tweet)\n",
    "graph.add_node(\"evaluate\",evaluate_tweet)\n",
    "graph.add_node(\"optimizer\",optimize_tweet)\n",
    "\n",
    "graph.add_edge(START, 'generate')\n",
    "graph.add_edge('generate', 'evaluate')\n",
    "\n",
    "graph.add_conditional_edges('evaluate', route_evaluation, {'approved': END, 'needs_improvement': 'optimizer'})\n",
    "graph.add_edge('optimizer', 'evaluate')\n",
    "\n",
    "workflow = graph.compile()\n",
    "\n",
    "workflow"
   ]
  },
  {
   "cell_type": "code",
   "execution_count": 60,
   "id": "fbc3f838",
   "metadata": {},
   "outputs": [],
   "source": [
    "initial_state = {\n",
    "    \"topic\": \"PAKISTAN JUST BOMBED ITS OWN VILLAGE\",\n",
    "    \"iteration\": 1,\n",
    "    \"max_iteration\": 2\n",
    "}\n",
    "result = workflow.invoke(initial_state)"
   ]
  },
  {
   "cell_type": "code",
   "execution_count": 61,
   "id": "fcc5b306",
   "metadata": {},
   "outputs": [
    {
     "data": {
      "text/plain": [
       "{'topic': 'PAKISTAN JUST BOMBED ITS OWN VILLAGE',\n",
       " 'tweet': '\"Pakistan just bombed its own village—talk about the ultimate \\'neighborhood revitalization\\' plan! Who needs a real estate agent when you can literally eliminate the competition? #UrbanDevelopment #RealEstateGoals\"',\n",
       " 'evaluation': 'needs_improvement',\n",
       " 'feedback': \"The tweet attempts a bold and dark humor angle by juxtaposing violent imagery with real estate terms, but it comes across as overly insensitive given the serious nature of the subject matter. Originality suffers due to the tired trope of using extreme violence as a metaphor, which dilutes its impact. While it’s somewhat punchy, the humor isn't effective enough to elicit genuine amusement and risks provoking backlash rather than shares, impacting its virality potential. Additionally, the format is appropriate but lacks the finesse needed for a successful tweet.\",\n",
       " 'iteration': 2,\n",
       " 'max_iteration': 2,\n",
       " 'tweet_history': ['Pakistan just bombed its own village. That’s one way to clear out the old neighborhood for some trendy condos. Who needs a real estate agent when you can just drop the property value to zero? #UrbanDevelopment #RealEstateGoals ',\n",
       "  '\"Pakistan just bombed its own village—talk about the ultimate \\'neighborhood revitalization\\' plan! Who needs a real estate agent when you can literally eliminate the competition? #UrbanDevelopment #RealEstateGoals\"'],\n",
       " 'feedback_history': [\"While the tweet attempts to use dark humor related to real estate, it suffers from a lack of originality and punchiness. The premise of clearing out neighborhoods for trendy condos is an overused trope that has been seen in various forms before. The humor does not land effectively, and it does not elicit a genuine laugh, but rather raises eyebrows. Additionally, the tweet's structure is a bit verbose and could be more concise for better impact. Overall, it does not have strong virality potential despite the topical relevance.\",\n",
       "  \"The tweet attempts a bold and dark humor angle by juxtaposing violent imagery with real estate terms, but it comes across as overly insensitive given the serious nature of the subject matter. Originality suffers due to the tired trope of using extreme violence as a metaphor, which dilutes its impact. While it’s somewhat punchy, the humor isn't effective enough to elicit genuine amusement and risks provoking backlash rather than shares, impacting its virality potential. Additionally, the format is appropriate but lacks the finesse needed for a successful tweet.\"]}"
      ]
     },
     "execution_count": 61,
     "metadata": {},
     "output_type": "execute_result"
    }
   ],
   "source": [
    "result"
   ]
  },
  {
   "cell_type": "code",
   "execution_count": null,
   "id": "bbd86f5a",
   "metadata": {},
   "outputs": [],
   "source": []
  }
 ],
 "metadata": {
  "kernelspec": {
   "display_name": "myenv",
   "language": "python",
   "name": "python3"
  },
  "language_info": {
   "codemirror_mode": {
    "name": "ipython",
    "version": 3
   },
   "file_extension": ".py",
   "mimetype": "text/x-python",
   "name": "python",
   "nbconvert_exporter": "python",
   "pygments_lexer": "ipython3",
   "version": "3.12.7"
  }
 },
 "nbformat": 4,
 "nbformat_minor": 5
}
