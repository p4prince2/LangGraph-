{
 "cells": [
  {
   "cell_type": "code",
   "execution_count": 52,
   "id": "29143a8c",
   "metadata": {},
   "outputs": [],
   "source": [
    "from langgraph.graph import StateGraph ,END,START\n",
    "from typing import TypedDict,Literal\n"
   ]
  },
  {
   "cell_type": "code",
   "execution_count": 53,
   "id": "e280b883",
   "metadata": {},
   "outputs": [],
   "source": [
    "class QuadState(TypedDict):\n",
    "\n",
    "    a:int\n",
    "    b:int\n",
    "    c:int\n",
    "\n",
    "    equation: str\n",
    "    discriminant:float\n",
    "    result:str\n",
    "\n"
   ]
  },
  {
   "cell_type": "code",
   "execution_count": 54,
   "id": "e2305ec9",
   "metadata": {},
   "outputs": [],
   "source": [
    "def show_equation(state: QuadState) -> QuadState:\n",
    "    state[\"equation\"] = f\"{state['a']}x^2 + {state['b']}y + {state['c']}\"\n",
    "    return state\n"
   ]
  },
  {
   "cell_type": "code",
   "execution_count": 55,
   "id": "0c29ba04",
   "metadata": {},
   "outputs": [],
   "source": [
    "def calculate_discriminant(state: QuadState):\n",
    "\n",
    "    discriminant=state[\"b\"]**2 - (4 *state[\"a\"]*state[\"c\"])\n",
    "\n",
    "    return {'discriminant' :discriminant}"
   ]
  },
  {
   "cell_type": "code",
   "execution_count": 56,
   "id": "75392546",
   "metadata": {},
   "outputs": [],
   "source": [
    "def real_root(state : QuadState):\n",
    "    root1=(-state[\"b\"] + state[\"discriminant\"]**0.5)/(2*state[\"a\"])\n",
    "    root2=(-state[\"b\"] - state[\"discriminant\"]**0.5)/(2*state[\"a\"])\n",
    "\n",
    "    result= f'The roots are {root1} and {root2}'\n",
    "\n",
    "    return {\"result\":result}"
   ]
  },
  {
   "cell_type": "code",
   "execution_count": 57,
   "id": "9c492bfe",
   "metadata": {},
   "outputs": [],
   "source": [
    "def repeated_root(state : QuadState):\n",
    "    root=(-state[\"b\"] )/(2*state[\"a\"])\n",
    "\n",
    "\n",
    "    result= f'Only repeating roots is {root} '\n",
    "\n",
    "    return {\"result\":result}"
   ]
  },
  {
   "cell_type": "code",
   "execution_count": 58,
   "id": "55991f3f",
   "metadata": {},
   "outputs": [],
   "source": [
    "def no_root(state :QuadState):\n",
    "    result=\"No real roots\"\n",
    "\n",
    "    return {\"result\":result}"
   ]
  },
  {
   "cell_type": "code",
   "execution_count": 59,
   "id": "6ee1488b",
   "metadata": {},
   "outputs": [],
   "source": [
    "## Condition Check \n",
    "\n",
    "def check_condition(state : QuadState) -> Literal[\"real_root\", \"repeated_root\", \"no_root\"]:\n",
    "    if state['discriminant'] > 0 :\n",
    "        return \"real_root\"\n",
    "    elif state[\"discriminant\"] == 0:\n",
    "        return \"repeated_root\"\n",
    "    else:\n",
    "        return \"no_root\""
   ]
  },
  {
   "cell_type": "code",
   "execution_count": 60,
   "id": "08ad1211",
   "metadata": {},
   "outputs": [
    {
     "data": {
      "text/plain": [
       "<langgraph.graph.state.StateGraph at 0x17d3358ffb0>"
      ]
     },
     "execution_count": 60,
     "metadata": {},
     "output_type": "execute_result"
    }
   ],
   "source": [
    "graph=StateGraph(QuadState)\n",
    "\n",
    "graph.add_node(\"show_equation\",show_equation)\n",
    "graph.add_node('calculate_discriminant',calculate_discriminant)\n",
    "graph.add_node(\"real_root\",real_root)\n",
    "graph.add_node(\"repeated_root\",repeated_root)\n",
    "graph.add_node(\"no_root\",no_root)\n",
    "\n",
    "\n",
    "graph.add_edge(START,\"show_equation\")\n",
    "graph.add_edge(\"show_equation\",\"calculate_discriminant\")\n",
    "\n",
    "graph.add_conditional_edges(\"calculate_discriminant\",check_condition)\n",
    "\n",
    "graph.add_edge(\"real_root\",END)\n",
    "graph.add_edge(\"repeated_root\",END)\n",
    "graph.add_edge(\"no_root\",END)\n",
    "\n"
   ]
  },
  {
   "cell_type": "code",
   "execution_count": 62,
   "id": "c3930071",
   "metadata": {},
   "outputs": [
    {
     "data": {
      "image/png": "[encoded data removed]",
      "text/plain": [
       "<langgraph.graph.state.CompiledStateGraph object at 0x0000017D334B3410>"
      ]
     },
     "execution_count": 62,
     "metadata": {},
     "output_type": "execute_result"
    }
   ],
   "source": [
    "workflow=graph.compile()\n",
    "workflow"
   ]
  },
  {
   "cell_type": "code",
   "execution_count": 67,
   "id": "9295f7fe",
   "metadata": {},
   "outputs": [],
   "source": [
    "inital_state={\n",
    "    'a':4,\n",
    "    'b':-3,\n",
    "    'c':-5\n",
    "\n",
    "}"
   ]
  },
  {
   "cell_type": "code",
   "execution_count": 68,
   "id": "e494c053",
   "metadata": {},
   "outputs": [
    {
     "data": {
      "text/plain": [
       "{'a': 4,\n",
       " 'b': -3,\n",
       " 'c': -5,\n",
       " 'equation': '4x^2 + -3y + -5',\n",
       " 'discriminant': 89,\n",
       " 'result': 'The roots are 1.5542476415070754 and -0.8042476415070754'}"
      ]
     },
     "execution_count": 68,
     "metadata": {},
     "output_type": "execute_result"
    }
   ],
   "source": [
    "workflow.invoke(inital_state)"
   ]
  },
  {
   "cell_type": "code",
   "execution_count": null,
   "id": "91380ef1",
   "metadata": {},
   "outputs": [],
   "source": []
  }
 ],
 "metadata": {
  "kernelspec": {
   "display_name": "myenv",
   "language": "python",
   "name": "python3"
  },
  "language_info": {
   "codemirror_mode": {
    "name": "ipython",
    "version": 3
   },
   "file_extension": ".py",
   "mimetype": "text/x-python",
   "name": "python",
   "nbconvert_exporter": "python",
   "pygments_lexer": "ipython3",
   "version": "3.12.7"
  }
 },
 "nbformat": 4,
 "nbformat_minor": 5
}
