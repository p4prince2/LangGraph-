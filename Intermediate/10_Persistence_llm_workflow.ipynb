{
 "cells": [
  {
   "cell_type": "code",
   "execution_count": 23,
   "id": "2a3b910d",
   "metadata": {},
   "outputs": [],
   "source": [
    "from langchain_openai import ChatOpenAI\n",
    "from langgraph.graph import StateGraph,START,END\n",
    "from typing import TypedDict,Annotated\n",
    "from langgraph.checkpoint.memory import InMemorySaver"
   ]
  },
  {
   "cell_type": "code",
   "execution_count": 24,
   "id": "2fc758e8",
   "metadata": {},
   "outputs": [],
   "source": [
    "llm=ChatOpenAI(model='gpt-4o-mini',\n",
    "                  \n",
    "    base_url=\"https://openrouter.ai/api/v1\")"
   ]
  },
  {
   "cell_type": "code",
   "execution_count": 25,
   "id": "8ccdfe1b",
   "metadata": {},
   "outputs": [],
   "source": [
    "class JokeState(TypedDict):\n",
    "    topic:str\n",
    "    joke:str\n",
    "    explation:str\n",
    "    "
   ]
  },
  {
   "cell_type": "code",
   "execution_count": 26,
   "id": "1b34d0ea",
   "metadata": {},
   "outputs": [],
   "source": [
    "def gen_joke(state : JokeState):\n",
    "\n",
    "    joke=state['topic']\n",
    "    temp=f'Generator a joke on the topic {joke}'\n",
    "    result=llm.invoke(temp).content\n",
    "\n",
    "    return {'joke':result}"
   ]
  },
  {
   "cell_type": "code",
   "execution_count": 27,
   "id": "2a683312",
   "metadata": {},
   "outputs": [],
   "source": [
    "def exp_joke(state : JokeState):\n",
    "    temp=f'write a explanation for the joke -{state['joke']}'\n",
    "\n",
    "    result=llm.invoke(temp).content\n",
    "\n",
    "    return {\"explation\":result}\n",
    "\n"
   ]
  },
  {
   "cell_type": "code",
   "execution_count": 28,
   "id": "8b3d1f15",
   "metadata": {},
   "outputs": [],
   "source": [
    "graph=StateGraph(JokeState)\n",
    "\n",
    "graph.add_node(\"gen_joke\",gen_joke)\n",
    "graph.add_node(\"exp_joke\",exp_joke)\n",
    "\n",
    "graph.add_edge(START,\"gen_joke\")\n",
    "graph.add_edge(\"gen_joke\",\"exp_joke\")\n",
    "graph.add_edge(\"exp_joke\",END)\n",
    "\n",
    "checkpointer=InMemorySaver()\n",
    "\n",
    "workflow=graph.compile(checkpointer=checkpointer)\n"
   ]
  },
  {
   "cell_type": "code",
   "execution_count": 29,
   "id": "f8f48216",
   "metadata": {},
   "outputs": [
    {
     "data": {
      "text/plain": [
       "{'topic': 'pizza',\n",
       " 'joke': \"Why did the pizza maker go broke?\\n\\nBecause he just couldn't make enough dough! 🍕\",\n",
       " 'explation': 'This joke plays on a clever wordplay involving the term \"dough.\" In the context of pizza making, \"dough\" refers to the bread mixture used to create the pizza crust. However, \"dough\" is also a slang term for money. \\n\\nThe humor arises from the double meaning: the pizza maker went broke because he couldn\\'t generate enough money (\"dough\") from his business, and at the same time, he couldn\\'t produce enough pizza dough to sell. This dual interpretation creates a light-hearted pun, making it a classic type of joke that relies on wordplay for its humor.'}"
      ]
     },
     "execution_count": 29,
     "metadata": {},
     "output_type": "execute_result"
    }
   ],
   "source": [
    "config={\"configurable\":{\"thread_id\":\"1\"}}\n",
    "workflow.invoke({\"topic\":\"pizza\"},config=config)"
   ]
  },
  {
   "cell_type": "code",
   "execution_count": 30,
   "id": "95e472ef",
   "metadata": {},
   "outputs": [
    {
     "data": {
      "text/plain": [
       "StateSnapshot(values={'topic': 'pizza', 'joke': \"Why did the pizza maker go broke?\\n\\nBecause he just couldn't make enough dough! 🍕\", 'explation': 'This joke plays on a clever wordplay involving the term \"dough.\" In the context of pizza making, \"dough\" refers to the bread mixture used to create the pizza crust. However, \"dough\" is also a slang term for money. \\n\\nThe humor arises from the double meaning: the pizza maker went broke because he couldn\\'t generate enough money (\"dough\") from his business, and at the same time, he couldn\\'t produce enough pizza dough to sell. This dual interpretation creates a light-hearted pun, making it a classic type of joke that relies on wordplay for its humor.'}, next=(), config={'configurable': {'thread_id': '1', 'checkpoint_ns': '', 'checkpoint_id': '1f09b0cb-f9cf-6742-8002-d3a598c5566b'}}, metadata={'source': 'loop', 'step': 2, 'parents': {}}, created_at='2025-09-26T19:12:30.513337+00:00', parent_config={'configurable': {'thread_id': '1', 'checkpoint_ns': '', 'checkpoint_id': '1f09b0cb-db9e-6c09-8001-369d9aa5e6af'}}, tasks=(), interrupts=())"
      ]
     },
     "execution_count": 30,
     "metadata": {},
     "output_type": "execute_result"
    }
   ],
   "source": [
    "workflow.get_state(config)"
   ]
  },
  {
   "cell_type": "code",
   "execution_count": 31,
   "id": "e96edf4c",
   "metadata": {},
   "outputs": [
    {
     "data": {
      "text/plain": [
       "[StateSnapshot(values={'topic': 'pizza', 'joke': \"Why did the pizza maker go broke?\\n\\nBecause he just couldn't make enough dough! 🍕\", 'explation': 'This joke plays on a clever wordplay involving the term \"dough.\" In the context of pizza making, \"dough\" refers to the bread mixture used to create the pizza crust. However, \"dough\" is also a slang term for money. \\n\\nThe humor arises from the double meaning: the pizza maker went broke because he couldn\\'t generate enough money (\"dough\") from his business, and at the same time, he couldn\\'t produce enough pizza dough to sell. This dual interpretation creates a light-hearted pun, making it a classic type of joke that relies on wordplay for its humor.'}, next=(), config={'configurable': {'thread_id': '1', 'checkpoint_ns': '', 'checkpoint_id': '1f09b0cb-f9cf-6742-8002-d3a598c5566b'}}, metadata={'source': 'loop', 'step': 2, 'parents': {}}, created_at='2025-09-26T19:12:30.513337+00:00', parent_config={'configurable': {'thread_id': '1', 'checkpoint_ns': '', 'checkpoint_id': '1f09b0cb-db9e-6c09-8001-369d9aa5e6af'}}, tasks=(), interrupts=()),\n",
       " StateSnapshot(values={'topic': 'pizza', 'joke': \"Why did the pizza maker go broke?\\n\\nBecause he just couldn't make enough dough! 🍕\"}, next=('exp_joke',), config={'configurable': {'thread_id': '1', 'checkpoint_ns': '', 'checkpoint_id': '1f09b0cb-db9e-6c09-8001-369d9aa5e6af'}}, metadata={'source': 'loop', 'step': 1, 'parents': {}}, created_at='2025-09-26T19:12:27.347661+00:00', parent_config={'configurable': {'thread_id': '1', 'checkpoint_ns': '', 'checkpoint_id': '1f09b0cb-c7d0-6559-8000-9d8a4ace4e50'}}, tasks=(PregelTask(id='1c2eb67a-2642-0188-356f-b1da63dd76e5', name='exp_joke', path=('__pregel_pull', 'exp_joke'), error=None, interrupts=(), state=None, result={'explation': 'This joke plays on a clever wordplay involving the term \"dough.\" In the context of pizza making, \"dough\" refers to the bread mixture used to create the pizza crust. However, \"dough\" is also a slang term for money. \\n\\nThe humor arises from the double meaning: the pizza maker went broke because he couldn\\'t generate enough money (\"dough\") from his business, and at the same time, he couldn\\'t produce enough pizza dough to sell. This dual interpretation creates a light-hearted pun, making it a classic type of joke that relies on wordplay for its humor.'}),), interrupts=()),\n",
       " StateSnapshot(values={'topic': 'pizza'}, next=('gen_joke',), config={'configurable': {'thread_id': '1', 'checkpoint_ns': '', 'checkpoint_id': '1f09b0cb-c7d0-6559-8000-9d8a4ace4e50'}}, metadata={'source': 'loop', 'step': 0, 'parents': {}}, created_at='2025-09-26T19:12:25.270818+00:00', parent_config={'configurable': {'thread_id': '1', 'checkpoint_ns': '', 'checkpoint_id': '1f09b0cb-c7cd-6dd5-bfff-c4d19ce17d10'}}, tasks=(PregelTask(id='df73963f-4b52-ee16-37c1-0f438bf45099', name='gen_joke', path=('__pregel_pull', 'gen_joke'), error=None, interrupts=(), state=None, result={'joke': \"Why did the pizza maker go broke?\\n\\nBecause he just couldn't make enough dough! 🍕\"}),), interrupts=()),\n",
       " StateSnapshot(values={}, next=('__start__',), config={'configurable': {'thread_id': '1', 'checkpoint_ns': '', 'checkpoint_id': '1f09b0cb-c7cd-6dd5-bfff-c4d19ce17d10'}}, metadata={'source': 'input', 'step': -1, 'parents': {}}, created_at='2025-09-26T19:12:25.269806+00:00', parent_config=None, tasks=(PregelTask(id='ddfbe797-1c5a-ee2e-d836-3308993c4c44', name='__start__', path=('__pregel_pull', '__start__'), error=None, interrupts=(), state=None, result={'topic': 'pizza'}),), interrupts=())]"
      ]
     },
     "execution_count": 31,
     "metadata": {},
     "output_type": "execute_result"
    }
   ],
   "source": [
    "list(workflow.get_state_history(config))"
   ]
  },
  {
   "cell_type": "code",
   "execution_count": 32,
   "id": "04ffc322",
   "metadata": {},
   "outputs": [
    {
     "data": {
      "text/plain": [
       "{'topic': 'Call of duty',\n",
       " 'joke': 'Why did the gamer bring a ladder to the Call of Duty match?\\n\\nBecause they heard the competition was on another level!',\n",
       " 'explation': 'The joke plays on the double meaning of the phrase \"on another level.\" In gaming and specifically in competitive games like Call of Duty, being \"on another level\" can refer to the skill or performance of players being significantly better than others. It suggests that one group of players is competing at a higher standard or \"level.\"\\n\\nOn the other hand, literally speaking, a ladder is a tool used for reaching higher places—like climbing to another physical level. So, the gamer brings a ladder to the match because they misinterpret the metaphorical phrase to mean they need a ladder to reach a higher level in the competition.\\n\\nThe humor comes from this clever wordplay and the absurdity of someone taking the concept of competition so literally that they would actually bring a ladder to a video game match.'}"
      ]
     },
     "execution_count": 32,
     "metadata": {},
     "output_type": "execute_result"
    }
   ],
   "source": [
    "config={\"configurable\":{\"thread_id\":\"2\"}}\n",
    "workflow.invoke({\"topic\":\"Call of duty\"},config=config)"
   ]
  },
  {
   "cell_type": "code",
   "execution_count": 33,
   "id": "3dad89da",
   "metadata": {},
   "outputs": [
    {
     "data": {
      "text/plain": [
       "StateSnapshot(values={'topic': 'Call of duty', 'joke': 'Why did the gamer bring a ladder to the Call of Duty match?\\n\\nBecause they heard the competition was on another level!', 'explation': 'The joke plays on the double meaning of the phrase \"on another level.\" In gaming and specifically in competitive games like Call of Duty, being \"on another level\" can refer to the skill or performance of players being significantly better than others. It suggests that one group of players is competing at a higher standard or \"level.\"\\n\\nOn the other hand, literally speaking, a ladder is a tool used for reaching higher places—like climbing to another physical level. So, the gamer brings a ladder to the match because they misinterpret the metaphorical phrase to mean they need a ladder to reach a higher level in the competition.\\n\\nThe humor comes from this clever wordplay and the absurdity of someone taking the concept of competition so literally that they would actually bring a ladder to a video game match.'}, next=(), config={'configurable': {'thread_id': '2', 'checkpoint_ns': '', 'checkpoint_id': '1f09b0cc-3573-6cdc-8002-7d16b4234f02'}}, metadata={'source': 'loop', 'step': 2, 'parents': {}}, created_at='2025-09-26T19:12:36.767254+00:00', parent_config={'configurable': {'thread_id': '2', 'checkpoint_ns': '', 'checkpoint_id': '1f09b0cc-084b-6157-8001-c32e847a2618'}}, tasks=(), interrupts=())"
      ]
     },
     "execution_count": 33,
     "metadata": {},
     "output_type": "execute_result"
    }
   ],
   "source": [
    "workflow.get_state(config)"
   ]
  },
  {
   "cell_type": "code",
   "execution_count": 34,
   "id": "fb928767",
   "metadata": {},
   "outputs": [
    {
     "data": {
      "text/plain": [
       "[StateSnapshot(values={'topic': 'Call of duty', 'joke': 'Why did the gamer bring a ladder to the Call of Duty match?\\n\\nBecause they heard the competition was on another level!', 'explation': 'The joke plays on the double meaning of the phrase \"on another level.\" In gaming and specifically in competitive games like Call of Duty, being \"on another level\" can refer to the skill or performance of players being significantly better than others. It suggests that one group of players is competing at a higher standard or \"level.\"\\n\\nOn the other hand, literally speaking, a ladder is a tool used for reaching higher places—like climbing to another physical level. So, the gamer brings a ladder to the match because they misinterpret the metaphorical phrase to mean they need a ladder to reach a higher level in the competition.\\n\\nThe humor comes from this clever wordplay and the absurdity of someone taking the concept of competition so literally that they would actually bring a ladder to a video game match.'}, next=(), config={'configurable': {'thread_id': '2', 'checkpoint_ns': '', 'checkpoint_id': '1f09b0cc-3573-6cdc-8002-7d16b4234f02'}}, metadata={'source': 'loop', 'step': 2, 'parents': {}}, created_at='2025-09-26T19:12:36.767254+00:00', parent_config={'configurable': {'thread_id': '2', 'checkpoint_ns': '', 'checkpoint_id': '1f09b0cc-084b-6157-8001-c32e847a2618'}}, tasks=(), interrupts=()),\n",
       " StateSnapshot(values={'topic': 'Call of duty', 'joke': 'Why did the gamer bring a ladder to the Call of Duty match?\\n\\nBecause they heard the competition was on another level!'}, next=('exp_joke',), config={'configurable': {'thread_id': '2', 'checkpoint_ns': '', 'checkpoint_id': '1f09b0cc-084b-6157-8001-c32e847a2618'}}, metadata={'source': 'loop', 'step': 1, 'parents': {}}, created_at='2025-09-26T19:12:32.031983+00:00', parent_config={'configurable': {'thread_id': '2', 'checkpoint_ns': '', 'checkpoint_id': '1f09b0cb-fa3a-6baf-8000-3cda043ade7b'}}, tasks=(PregelTask(id='889d7113-38b8-3cb5-0cb3-cc8cb615bd0e', name='exp_joke', path=('__pregel_pull', 'exp_joke'), error=None, interrupts=(), state=None, result={'explation': 'The joke plays on the double meaning of the phrase \"on another level.\" In gaming and specifically in competitive games like Call of Duty, being \"on another level\" can refer to the skill or performance of players being significantly better than others. It suggests that one group of players is competing at a higher standard or \"level.\"\\n\\nOn the other hand, literally speaking, a ladder is a tool used for reaching higher places—like climbing to another physical level. So, the gamer brings a ladder to the match because they misinterpret the metaphorical phrase to mean they need a ladder to reach a higher level in the competition.\\n\\nThe humor comes from this clever wordplay and the absurdity of someone taking the concept of competition so literally that they would actually bring a ladder to a video game match.'}),), interrupts=()),\n",
       " StateSnapshot(values={'topic': 'Call of duty'}, next=('gen_joke',), config={'configurable': {'thread_id': '2', 'checkpoint_ns': '', 'checkpoint_id': '1f09b0cb-fa3a-6baf-8000-3cda043ade7b'}}, metadata={'source': 'loop', 'step': 0, 'parents': {}}, created_at='2025-09-26T19:12:30.557278+00:00', parent_config={'configurable': {'thread_id': '2', 'checkpoint_ns': '', 'checkpoint_id': '1f09b0cb-fa38-649b-bfff-5bd87645c4d4'}}, tasks=(PregelTask(id='07844124-f732-f8e0-daed-4915c2d0d3fc', name='gen_joke', path=('__pregel_pull', 'gen_joke'), error=None, interrupts=(), state=None, result={'joke': 'Why did the gamer bring a ladder to the Call of Duty match?\\n\\nBecause they heard the competition was on another level!'}),), interrupts=()),\n",
       " StateSnapshot(values={}, next=('__start__',), config={'configurable': {'thread_id': '2', 'checkpoint_ns': '', 'checkpoint_id': '1f09b0cb-fa38-649b-bfff-5bd87645c4d4'}}, metadata={'source': 'input', 'step': -1, 'parents': {}}, created_at='2025-09-26T19:12:30.556277+00:00', parent_config=None, tasks=(PregelTask(id='26a6e622-4179-7a2e-2f42-f4efc20f9448', name='__start__', path=('__pregel_pull', '__start__'), error=None, interrupts=(), state=None, result={'topic': 'Call of duty'}),), interrupts=())]"
      ]
     },
     "execution_count": 34,
     "metadata": {},
     "output_type": "execute_result"
    }
   ],
   "source": [
    "list(workflow.get_state_history(config))"
   ]
  },
  {
   "cell_type": "code",
   "execution_count": null,
   "id": "a553aaba",
   "metadata": {},
   "outputs": [],
   "source": []
  },
  {
   "cell_type": "code",
   "execution_count": null,
   "id": "f290dbd9",
   "metadata": {},
   "outputs": [],
   "source": []
  }
 ],
 "metadata": {
  "kernelspec": {
   "display_name": "myenv",
   "language": "python",
   "name": "python3"
  },
  "language_info": {
   "codemirror_mode": {
    "name": "ipython",
    "version": 3
   },
   "file_extension": ".py",
   "mimetype": "text/x-python",
   "name": "python",
   "nbconvert_exporter": "python",
   "pygments_lexer": "ipython3",
   "version": "3.12.7"
  }
 },
 "nbformat": 4,
 "nbformat_minor": 5
}
